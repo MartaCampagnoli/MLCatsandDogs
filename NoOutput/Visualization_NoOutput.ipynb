{
  "cells": [
    {
      "cell_type": "markdown",
      "metadata": {
        "id": "view-in-github",
        "colab_type": "text"
      },
      "source": [
        "<a href=\"https://colab.research.google.com/github/MartaCampagnoli/MLCatsandDogs/blob/main/NoOutput/Visualization_NoOutput.ipynb\" target=\"_parent\"><img src=\"https://colab.research.google.com/assets/colab-badge.svg\" alt=\"Open In Colab\"/></a>"
      ]
    },
    {
      "cell_type": "code",
      "execution_count": null,
      "metadata": {
        "id": "T3uvUJAZPg2q"
      },
      "outputs": [],
      "source": [
        "import sys\n",
        "import os\n",
        "from os import listdir\n",
        "import pandas as pd\n",
        "import numpy as np\n",
        "import cv2\n",
        "import PIL\n",
        "from PIL import Image\n",
        "from PIL import ImageFont\n",
        "from matplotlib import pyplot as plt\n",
        "import seaborn as sns\n",
        "import random\n",
        "import pathlib\n",
        "from skimage.io import imread\n",
        "from collections import defaultdict\n",
        "\n",
        "import tensorflow as tf\n",
        "from tensorflow import keras\n",
        "from keras import models, layers, callbacks, regularizers\n",
        "from keras.models import Model, Sequential, load_model\n",
        "from keras.layers import *\n",
        "from keras.utils import to_categorical, load_img, img_to_array\n",
        "from tensorflow.python.ops.numpy_ops import np_config\n",
        "np_config.enable_numpy_behavior()\n",
        "\n",
        "from sklearn.model_selection import StratifiedKFold, train_test_split\n",
        "\n",
        "\n",
        "!pip install visualkeras\n",
        "import visualkeras\n",
        "!pip install wget\n",
        "import wget \n",
        "import zipfile\n",
        "\n",
        "\n",
        "%load_ext tensorboard\n",
        "\n"
      ]
    },
    {
      "cell_type": "markdown",
      "source": [
        "# ***Getting the dataset***"
      ],
      "metadata": {
        "id": "bhlWtWESbjAU"
      }
    },
    {
      "cell_type": "code",
      "source": [
        "if not os.path.isfile(\"cats_vs_dogs.zip\"): \n",
        "    print(\"downloading...\")\n",
        "    wget.download(\"https://unimibox.unimi.it/index.php/s/eNGYGSYmqynNMqF/download\")\n"
      ],
      "metadata": {
        "id": "QIeOUCqxaq7p"
      },
      "execution_count": null,
      "outputs": []
    },
    {
      "cell_type": "code",
      "source": [
        "if not (os.path.isdir(\"data\") and os.path.isdir(\"data/Cats\") and os.path.isdir(\"data/Dogs\")): \n",
        "    print(\"extracting...\")\n",
        "    with zipfile.ZipFile(\"CatsDogs.zip\", 'r') as file: file.extractall(\"./data/\")"
      ],
      "metadata": {
        "id": "NdVgViLMbhte"
      },
      "execution_count": null,
      "outputs": []
    },
    {
      "cell_type": "code",
      "execution_count": null,
      "metadata": {
        "id": "xoYf0qrSXwGP"
      },
      "outputs": [],
      "source": [
        "data_dir = \"/content/data/CatsDogs\"\n",
        "cats_dir = data_dir + '/Cats'\n",
        "dogs_dir = data_dir + '/Dogs'\n"
      ]
    },
    {
      "cell_type": "markdown",
      "source": [
        "# ***Data Visualization***"
      ],
      "metadata": {
        "id": "OT8ofW9eCbVh"
      }
    },
    {
      "cell_type": "code",
      "execution_count": null,
      "metadata": {
        "id": "7eFuOCCJiu1d"
      },
      "outputs": [],
      "source": [
        "images = [] #visualizing a single image\n",
        "for folder in os.listdir(data_dir):\n",
        "  for image in os.listdir(data_dir + '/' + folder):\n",
        "    images.append(os.path.join(data_dir, folder, image))\n",
        "\n",
        "Image.open(random.choice(images)).resize((256,256), Image.NEAREST)"
      ]
    },
    {
      "cell_type": "code",
      "execution_count": null,
      "metadata": {
        "id": "tC9_1R3kYlEd"
      },
      "outputs": [],
      "source": [
        "plt.figure(1, figsize=(15, 9)) #visualizing a set of images\n",
        "plt.axis('on')\n",
        "n = 0\n",
        "for i in range(8):\n",
        "  n += 1\n",
        "  random_img = random.choice(images)\n",
        "  imgs = imread(random_img)\n",
        "  plt.subplot(4, 4, n)\n",
        "  plt.imshow(imgs)\n",
        "\n",
        "plt.show()"
      ]
    },
    {
      "cell_type": "code",
      "execution_count": null,
      "metadata": {
        "id": "zQKRCEGSqhhQ"
      },
      "outputs": [],
      "source": [
        "size = (100, 100)\n",
        "channels = 1\n",
        "catsdogs = []\n",
        "categories = ['Cats','Dogs']\n",
        "\n",
        "def get_data():\n",
        "\n",
        "    for category in categories:\n",
        "        path = os.path.join(data_dir, category)\n",
        "\n",
        "        animalclass = categories.index(category)\n",
        "\n",
        "        for img in os.listdir(path):\n",
        "            try:\n",
        "                img_array = cv2.imread(os.path.join(path,img), cv2.IMREAD_GRAYSCALE)\n",
        "                new_array = cv2.resize(img_array, size)\n",
        "                catsdogs.append([new_array, animalclass])\n",
        "            except:\n",
        "                pass\n",
        "\n",
        "get_data()\n",
        "\n",
        "print(len(catsdogs))"
      ]
    },
    {
      "cell_type": "code",
      "execution_count": null,
      "metadata": {
        "id": "fi6N7zGMrglw"
      },
      "outputs": [],
      "source": [
        "random.shuffle(catsdogs)\n",
        "\n",
        "X = []\n",
        "y = []\n",
        "\n",
        "for image, label in catsdogs:\n",
        "    X.append(image)\n",
        "    y.append(label)\n",
        "\n",
        "X = np.array(X).reshape(-1, 100, 100, channels)"
      ]
    },
    {
      "cell_type": "code",
      "execution_count": null,
      "metadata": {
        "id": "M3delFtHHn_L"
      },
      "outputs": [],
      "source": [
        "catordog = 10 #showing greyscale pictures; 0-1 labels \n",
        "\n",
        "\n",
        "f, ax = plt.subplots(1, catordog)\n",
        "f.set_size_inches(40, 50)\n",
        "\n",
        "for i in range(catordog):\n",
        "  picture = X[i][:, :, 0]\n",
        "  ax[i].imshow(picture, cmap = \"gray\")\n",
        "  num = y[i]\n",
        "  ax[i].set_title(num)"
      ]
    },
    {
      "cell_type": "code",
      "source": [
        "f, ax = plt.subplots(1, catordog) #showing greyscale pictures; cat-dog labels \n",
        "f.set_size_inches(40, 50)\n",
        "\n",
        "for i in range(catordog):\n",
        "  picture = X[i][:, :, 0]\n",
        "  ax[i].imshow(picture, cmap = \"gray\")\n",
        "  num = y[i]\n",
        "  ax[i].set_title(categories[num])\n"
      ],
      "metadata": {
        "id": "30j7Upt5pT2e"
      },
      "execution_count": null,
      "outputs": []
    },
    {
      "cell_type": "code",
      "source": [
        "size = X.shape[0]\n",
        "X = tf.convert_to_tensor(X, dtype= tf.float32) / 255.0\n",
        "Y = tf.reshape(tf.convert_to_tensor(y, dtype=tf.float32), shape = [size, 1])\n",
        "X_train, X_test, y_train, y_test = train_test_split(X,Y, test_size = 0.2)"
      ],
      "metadata": {
        "id": "I0NcE8Wf2rtg"
      },
      "execution_count": null,
      "outputs": []
    },
    {
      "cell_type": "code",
      "source": [
        "plt.figure(figsize=(10,10)) #rescaled pictures in the training set\n",
        "for i in range(5):\n",
        "    plt.subplot(1,5,i+1)\n",
        "    plt.xticks([])\n",
        "    plt.yticks([])\n",
        "    plt.grid(False)\n",
        "    plt.imshow(X_train[i], cmap=plt.cm.gray)\n",
        "    plt.title(y_train[i].numpy())\n",
        "plt.show()\n"
      ],
      "metadata": {
        "id": "n-fta3tKIs4S"
      },
      "execution_count": null,
      "outputs": []
    },
    {
      "cell_type": "markdown",
      "source": [
        "# ***Models Visualization***"
      ],
      "metadata": {
        "id": "SS43ntRACBHH"
      }
    },
    {
      "cell_type": "markdown",
      "source": [
        "Each of the 9 models is visualized through a 3D model, a summary and a plot model of the architecture."
      ],
      "metadata": {
        "id": "9Vmu4ZuX9poT"
      }
    },
    {
      "cell_type": "code",
      "source": [
        "##font and color map\n",
        "\n",
        "font = ImageFont.truetype(\"arial.ttf\", 18)  \n",
        "\n",
        "color_map = defaultdict(dict)\n",
        "color_map[Conv2D]['fill'] = \t'#92F294'\n",
        "color_map[BatchNormalization]['fill'] = '#CAF2C2'\n",
        "color_map[MaxPooling2D]['fill'] = '#d4f8ff'\n",
        "color_map[Dropout]['fill'] = '#88CEFB'\n",
        "color_map[Dense]['fill'] = '#fbd3ff'\n",
        "color_map[Flatten]['fill'] =  '#FEFFD6'"
      ],
      "metadata": {
        "id": "RI-BZsyV77n_"
      },
      "execution_count": null,
      "outputs": []
    },
    {
      "cell_type": "markdown",
      "source": [
        "\n",
        "*   ***Stack128***\n",
        "\n",
        "\n",
        "\n"
      ],
      "metadata": {
        "id": "wKHyrbIWma9V"
      }
    },
    {
      "cell_type": "code",
      "source": [
        "stack128 = tf.keras.Sequential([\n",
        "          tf.keras.layers.Conv2D(32, (3, 3), padding = \"same\", use_bias=False, input_shape = (100, 100, 1), activation='relu'),\n",
        "          tf.keras.layers.Conv2D(32, (3, 3), padding = \"same\", use_bias=False, activation='relu'),\n",
        "          tf.keras.layers.MaxPooling2D(pool_size = (2, 2)),\n",
        "          tf.keras.layers.Conv2D(64, (3, 3), padding = \"same\", use_bias=False, activation='relu'),\n",
        "          tf.keras.layers.Conv2D(64, (3, 3), padding = \"same\", use_bias=False, activation='relu'),\n",
        "          tf.keras.layers.MaxPooling2D(pool_size = (2, 2)),\n",
        "          tf.keras.layers.Conv2D(128, (3, 3), padding = \"same\", use_bias=False, activation='relu'),\n",
        "          tf.keras.layers.Conv2D(128, (3, 3), padding = \"same\", use_bias=False, activation='relu'), \n",
        "          tf.keras.layers.MaxPooling2D(pool_size = (2, 2)),\n",
        "          tf.keras.layers.Flatten(),\n",
        "          tf.keras.layers.Dense(512, use_bias=False, activation='relu'),\n",
        "          tf.keras.layers.Dense(1, activation = 'sigmoid')\n",
        "      ])"
      ],
      "metadata": {
        "id": "jXEfXlbqrg_l"
      },
      "execution_count": null,
      "outputs": []
    },
    {
      "cell_type": "code",
      "source": [
        "stack128.summary()"
      ],
      "metadata": {
        "id": "9erJiCL_rypS"
      },
      "execution_count": null,
      "outputs": []
    },
    {
      "cell_type": "code",
      "source": [
        "visualkeras.layered_view(stack128, legend=True, font = font, color_map=color_map, to_file='stack1283D.png')"
      ],
      "metadata": {
        "id": "LeUaN51jcRhy"
      },
      "execution_count": null,
      "outputs": []
    },
    {
      "cell_type": "code",
      "source": [
        "keras.utils.plot_model(stack128, to_file='stack128.png', show_shapes=True, show_layer_names=True)"
      ],
      "metadata": {
        "id": "Mu98c8lRuuKH"
      },
      "execution_count": null,
      "outputs": []
    },
    {
      "cell_type": "markdown",
      "source": [
        "\n",
        "\n",
        "*   ***Stack256***\n",
        "\n",
        "\n"
      ],
      "metadata": {
        "id": "KpIebaEFmoML"
      }
    },
    {
      "cell_type": "code",
      "source": [
        "stack256 = tf.keras.Sequential([\n",
        "    tf.keras.layers.Conv2D(32, (3, 3), padding = \"same\", use_bias=False, input_shape = (100, 100, 1), activation='relu'),\n",
        "    tf.keras.layers.Conv2D(32, (3, 3), padding = \"same\", use_bias=False, activation='relu'),\n",
        "    tf.keras.layers.MaxPooling2D(pool_size = (2, 2)),\n",
        "    tf.keras.layers.Conv2D(64, (3, 3), padding = \"same\", use_bias=False, activation='relu'),\n",
        "    tf.keras.layers.Conv2D(64, (3, 3), padding = \"same\", use_bias=False, activation='relu'),\n",
        "    tf.keras.layers.MaxPooling2D(pool_size = (2, 2)),\n",
        "    tf.keras.layers.Conv2D(128, (3, 3), padding = \"same\", use_bias=False, activation='relu'),\n",
        "    tf.keras.layers.Conv2D(128, (3, 3), padding = \"same\", use_bias=False, activation='relu'),\n",
        "    tf.keras.layers.MaxPooling2D(pool_size = (2, 2)),\n",
        "    tf.keras.layers.Conv2D(256, (3, 3), padding = \"same\", use_bias=False, activation='relu'),\n",
        "    tf.keras.layers.Conv2D(256, (3, 3), padding = \"same\", use_bias=False, activation='relu'),\n",
        "    tf.keras.layers.MaxPooling2D(pool_size = (2, 2)),\n",
        "    tf.keras.layers.Flatten(),\n",
        "    tf.keras.layers.Dense(512, use_bias=False, activation='relu'),\n",
        "    tf.keras.layers.Dense(1, activation = 'sigmoid')\n",
        "])\n"
      ],
      "metadata": {
        "id": "Nioewu1UmmeX"
      },
      "execution_count": null,
      "outputs": []
    },
    {
      "cell_type": "code",
      "source": [
        "stack256.summary()"
      ],
      "metadata": {
        "id": "Jsel11SmZWE4"
      },
      "execution_count": null,
      "outputs": []
    },
    {
      "cell_type": "code",
      "source": [
        "visualkeras.layered_view(stack256, legend=True, font = font, color_map=color_map, to_file='stack2563D.png')"
      ],
      "metadata": {
        "id": "6y0JDmH6O4XX"
      },
      "execution_count": null,
      "outputs": []
    },
    {
      "cell_type": "code",
      "source": [
        "keras.utils.plot_model(stack256, to_file='stack256.png', show_shapes=True, show_layer_names=True)"
      ],
      "metadata": {
        "id": "bHeYCBCKPOLy"
      },
      "execution_count": null,
      "outputs": []
    },
    {
      "cell_type": "markdown",
      "source": [
        "\n",
        "*   ***Stack512***\n",
        "\n"
      ],
      "metadata": {
        "id": "nYNULNYjMy84"
      }
    },
    {
      "cell_type": "code",
      "source": [
        "stack512 = tf.keras.Sequential([\n",
        "    tf.keras.layers.Conv2D(32, (3, 3), padding = \"same\", use_bias=False, input_shape = (100, 100, 1), activation='relu'),\n",
        "    tf.keras.layers.Conv2D(32, (3, 3), padding = \"same\", use_bias=False, activation='relu'),\n",
        "    tf.keras.layers.MaxPooling2D(pool_size = (2, 2)),\n",
        "    tf.keras.layers.Conv2D(64, (3, 3), padding = \"same\", use_bias=False, activation='relu'),\n",
        "    tf.keras.layers.Conv2D(64, (3, 3), padding = \"same\", use_bias=False, activation='relu'),\n",
        "    tf.keras.layers.MaxPooling2D(pool_size = (2, 2)),\n",
        "    tf.keras.layers.Conv2D(128, (3, 3), padding = \"same\", use_bias=False, activation='relu'), \n",
        "    tf.keras.layers.Conv2D(128, (3, 3), padding = \"same\", use_bias=False, activation='relu'),\n",
        "    tf.keras.layers.MaxPooling2D(pool_size = (2, 2)),\n",
        "    tf.keras.layers.Conv2D(256, (3, 3), padding = \"same\", use_bias=False, activation='relu'),\n",
        "    tf.keras.layers.Conv2D(256, (3, 3), padding = \"same\", use_bias=False, activation='relu'),\n",
        "    tf.keras.layers.MaxPooling2D(pool_size = (2, 2)),\n",
        "    tf.keras.layers.Conv2D(512, (3, 3), padding = \"same\", use_bias=False, activation='relu'),\n",
        "    tf.keras.layers.Conv2D(512, (3, 3), padding = \"same\", use_bias=False, activation='relu'),\n",
        "    tf.keras.layers.MaxPooling2D(pool_size = (2, 2)),\n",
        "    tf.keras.layers.Flatten(),\n",
        "    tf.keras.layers.Dense(512, use_bias=False, activation='relu'),\n",
        "    tf.keras.layers.Dense(1, activation = 'sigmoid')\n",
        "])\n",
        "   "
      ],
      "metadata": {
        "id": "LUE0dO8mpJub"
      },
      "execution_count": null,
      "outputs": []
    },
    {
      "cell_type": "code",
      "source": [
        "stack512.summary()  "
      ],
      "metadata": {
        "id": "5tHpDG29f1Sn"
      },
      "execution_count": null,
      "outputs": []
    },
    {
      "cell_type": "code",
      "source": [
        "visualkeras.layered_view(stack512, legend=True, font = font, color_map=color_map, to_file='stack5123D.png')"
      ],
      "metadata": {
        "id": "uPUvBHpsY6iT"
      },
      "execution_count": null,
      "outputs": []
    },
    {
      "cell_type": "code",
      "source": [
        "keras.utils.plot_model(stack512, to_file='stack512.png', show_shapes=True, show_layer_names=True)"
      ],
      "metadata": {
        "id": "EtoPYhvTYyER"
      },
      "execution_count": null,
      "outputs": []
    },
    {
      "cell_type": "markdown",
      "source": [
        "\n",
        "\n",
        "*   ***Drop256***\n",
        "\n"
      ],
      "metadata": {
        "id": "FSZTEk_EYaM9"
      }
    },
    {
      "cell_type": "code",
      "source": [
        "drop256 = tf.keras.Sequential([\n",
        "    tf.keras.layers.Conv2D(32, (3, 3), padding = \"same\", use_bias=False, input_shape = (100, 100, 1), activation='relu'),\n",
        "    tf.keras.layers.Conv2D(32, (3, 3), padding = \"same\", use_bias=False, activation='relu'),\n",
        "    tf.keras.layers.MaxPooling2D(pool_size = (2, 2)),\n",
        "    tf.keras.layers.Dropout(0.3),\n",
        "    tf.keras.layers.Conv2D(64, (3, 3), padding = \"same\", use_bias=False, activation='relu'),\n",
        "    tf.keras.layers.Conv2D(64, (3, 3), padding = \"same\", use_bias=False, activation='relu'),\n",
        "    tf.keras.layers.MaxPooling2D(pool_size = (2, 2)),\n",
        "    tf.keras.layers.Dropout(0.3),\n",
        "    tf.keras.layers.Conv2D(128, (3, 3), padding = \"same\", use_bias=False, activation='relu'),\n",
        "    tf.keras.layers.Conv2D(128, (3, 3), padding = \"same\", use_bias=False, activation='relu'),\n",
        "    tf.keras.layers.MaxPooling2D(pool_size = (2, 2)),\n",
        "    tf.keras.layers.Dropout(0.3),\n",
        "    tf.keras.layers.Conv2D(256, (3, 3), padding = \"same\", use_bias=False, activation='relu'),\n",
        "    tf.keras.layers.Conv2D(256, (3, 3), padding = \"same\", use_bias=False, activation='relu'),\n",
        "    tf.keras.layers.MaxPooling2D(pool_size = (2, 2)),\n",
        "    tf.keras.layers.Dropout(0.4),\n",
        "    tf.keras.layers.Flatten(),\n",
        "    tf.keras.layers.Dense(512, use_bias=False, activation='relu'),\n",
        "    tf.keras.layers.Dropout(0.4),\n",
        "    tf.keras.layers.Dense(1, activation = 'sigmoid')\n",
        "])\n"
      ],
      "metadata": {
        "id": "ah1Wgn70eslg"
      },
      "execution_count": null,
      "outputs": []
    },
    {
      "cell_type": "code",
      "source": [
        "drop256.summary()"
      ],
      "metadata": {
        "id": "mrt8noS0g25x"
      },
      "execution_count": null,
      "outputs": []
    },
    {
      "cell_type": "code",
      "source": [
        "visualkeras.layered_view(drop256, legend=True, font = font, color_map=color_map, to_file='drop2563D.png')"
      ],
      "metadata": {
        "id": "0BU1njXnfKzQ"
      },
      "execution_count": null,
      "outputs": []
    },
    {
      "cell_type": "code",
      "source": [
        "keras.utils.plot_model(drop256, to_file='drop256.png', show_shapes=True, show_layer_names=True)"
      ],
      "metadata": {
        "id": "NbQhCNmTg9D5"
      },
      "execution_count": null,
      "outputs": []
    },
    {
      "cell_type": "markdown",
      "source": [
        "\n",
        "\n",
        "\n",
        "*   ***Drop512***\n",
        "\n",
        "\n",
        "\n",
        "\n",
        "\n"
      ],
      "metadata": {
        "id": "2CKcFj4OfdWC"
      }
    },
    {
      "cell_type": "code",
      "source": [
        "drop512 = tf.keras.Sequential([\n",
        "    tf.keras.layers.Conv2D(32, (3, 3), padding = \"same\", use_bias=False, input_shape = (100, 100, 1), activation='relu'),\n",
        "    tf.keras.layers.Conv2D(32, (3, 3), padding = \"same\", use_bias=False, activation='relu'),\n",
        "    tf.keras.layers.MaxPooling2D(pool_size = (2, 2)),\n",
        "    tf.keras.layers.Dropout(0.2),\n",
        "    tf.keras.layers.Conv2D(64, (3, 3), padding = \"same\", use_bias=False, activation='relu'),\n",
        "    tf.keras.layers.Conv2D(64, (3, 3), padding = \"same\", use_bias=False, activation='relu'),\n",
        "    tf.keras.layers.MaxPooling2D(pool_size = (2, 2)),\n",
        "    tf.keras.layers.Dropout(0.2),\n",
        "    tf.keras.layers.Conv2D(128, (3, 3), padding = \"same\", use_bias=False, activation='relu'),\n",
        "    tf.keras.layers.Conv2D(128, (3, 3), padding = \"same\", use_bias=False, activation='relu'),\n",
        "    tf.keras.layers.MaxPooling2D(pool_size = (2, 2)),\n",
        "    tf.keras.layers.Dropout(0.3),\n",
        "    tf.keras.layers.Conv2D(256, (3, 3), padding = \"same\", use_bias=False, activation='relu'),\n",
        "    tf.keras.layers.Conv2D(256, (3, 3), padding = \"same\", use_bias=False, activation='relu'),\n",
        "    tf.keras.layers.MaxPooling2D(pool_size = (2, 2)),\n",
        "    tf.keras.layers.Dropout(0.3),\n",
        "    tf.keras.layers.Conv2D(512, (3, 3), padding = \"same\", use_bias=False, activation='relu'),\n",
        "    tf.keras.layers.Conv2D(512, (3, 3), padding = \"same\", use_bias=False, activation='relu'),\n",
        "    tf.keras.layers.MaxPooling2D(pool_size = (2, 2)),\n",
        "    tf.keras.layers.Dropout(0.4),\n",
        "    tf.keras.layers.Flatten(),\n",
        "    tf.keras.layers.Dense(512, use_bias=False, activation='relu'),\n",
        "    tf.keras.layers.Dropout(0.4),\n",
        "    tf.keras.layers.Dense(1, activation = 'sigmoid')\n",
        "])\n"
      ],
      "metadata": {
        "id": "hvzUW9bh5f89"
      },
      "execution_count": null,
      "outputs": []
    },
    {
      "cell_type": "code",
      "source": [
        "drop512.summary()"
      ],
      "metadata": {
        "id": "8T1P6gj7i3q6"
      },
      "execution_count": null,
      "outputs": []
    },
    {
      "cell_type": "code",
      "source": [
        "visualkeras.layered_view(drop512, legend=True, font = font, color_map=color_map, to_file='drop5123D.png')"
      ],
      "metadata": {
        "id": "F5yC5Bj1csgx"
      },
      "execution_count": null,
      "outputs": []
    },
    {
      "cell_type": "code",
      "source": [
        "keras.utils.plot_model(drop512, to_file='drop512.png', show_shapes=True, show_layer_names=True)"
      ],
      "metadata": {
        "id": "cUHcS5rHc5HX"
      },
      "execution_count": null,
      "outputs": []
    },
    {
      "cell_type": "markdown",
      "source": [
        "\n",
        "\n",
        "*   ***DropBatch256***\n",
        "\n"
      ],
      "metadata": {
        "id": "Hq-Oiq6LckI3"
      }
    },
    {
      "cell_type": "code",
      "source": [
        "dropbatch256 = tf.keras.Sequential([\n",
        "    tf.keras.layers.Conv2D(32, (3, 3), padding = \"same\", use_bias=False, input_shape = (100, 100, 1), activation='relu'),\n",
        "    tf.keras.layers.BatchNormalization(),\n",
        "    tf.keras.layers.Conv2D(32, (3, 3), padding = \"same\", use_bias=False, input_shape = (100, 100, 1), activation='relu'),\n",
        "    tf.keras.layers.BatchNormalization(),\n",
        "    tf.keras.layers.Conv2D(32, (3, 3), padding = \"same\", use_bias=False, activation='relu'),\n",
        "    tf.keras.layers.BatchNormalization(),\n",
        "    tf.keras.layers.MaxPooling2D(pool_size = (2, 2)),\n",
        "    tf.keras.layers.Dropout(0.3),\n",
        "    tf.keras.layers.Conv2D(64, (3, 3), padding = \"same\", use_bias=False, activation='relu'),\n",
        "    tf.keras.layers.BatchNormalization(),\n",
        "    tf.keras.layers.Conv2D(64, (3, 3), padding = \"same\", use_bias=False, activation='relu'),\n",
        "    tf.keras.layers.BatchNormalization(),\n",
        "    tf.keras.layers.Conv2D(64, (3, 3), padding = \"same\", use_bias=False, activation='relu'),\n",
        "    tf.keras.layers.BatchNormalization(),\n",
        "    tf.keras.layers.MaxPooling2D(pool_size = (2, 2)),\n",
        "    tf.keras.layers.Dropout(0.3),\n",
        "    tf.keras.layers.Conv2D(128, (3, 3), padding = \"same\", use_bias=False, activation='relu'),\n",
        "    tf.keras.layers.BatchNormalization(),\n",
        "    tf.keras.layers.Conv2D(128, (3, 3), padding = \"same\", use_bias=False, activation='relu'),\n",
        "    tf.keras.layers.BatchNormalization(),\n",
        "    tf.keras.layers.Conv2D(128, (3, 3), padding = \"same\", use_bias=False, activation='relu'),\n",
        "    tf.keras.layers.BatchNormalization(),\n",
        "    tf.keras.layers.MaxPooling2D(pool_size = (2, 2)),\n",
        "    tf.keras.layers.Dropout(0.3),\n",
        "    tf.keras.layers.Conv2D(256, (3, 3), padding = \"same\", use_bias=False, activation='relu'),\n",
        "    tf.keras.layers.BatchNormalization(),\n",
        "    tf.keras.layers.Conv2D(256, (3, 3), padding = \"same\", use_bias=False, activation='relu'),\n",
        "    tf.keras.layers.BatchNormalization(),\n",
        "    tf.keras.layers.Conv2D(256, (3, 3), padding = \"same\", use_bias=False, activation='relu'),\n",
        "    tf.keras.layers.BatchNormalization(),\n",
        "    tf.keras.layers.MaxPooling2D(pool_size = (2, 2)),\n",
        "    tf.keras.layers.Dropout(0.4),\n",
        "    tf.keras.layers.Flatten(),\n",
        "    tf.keras.layers.Dense(512, use_bias=False, activation='relu'),\n",
        "    tf.keras.layers.BatchNormalization(),\n",
        "    tf.keras.layers.Dropout(0.4),\n",
        "    tf.keras.layers.Dense(1, activation = 'sigmoid')\n",
        "])\n"
      ],
      "metadata": {
        "id": "oju_vqQ1X33_"
      },
      "execution_count": null,
      "outputs": []
    },
    {
      "cell_type": "code",
      "source": [
        "dropbatch256.summary()"
      ],
      "metadata": {
        "id": "2fawiERTlmtA"
      },
      "execution_count": null,
      "outputs": []
    },
    {
      "cell_type": "code",
      "source": [
        "visualkeras.layered_view(dropbatch256, legend=True, font = font, color_map=color_map, to_file='dropbatch2563D.png')"
      ],
      "metadata": {
        "id": "R1KreOzblxDT"
      },
      "execution_count": null,
      "outputs": []
    },
    {
      "cell_type": "code",
      "source": [
        "keras.utils.plot_model(dropbatch256, to_file='dropbatch256.png', show_shapes=True, show_layer_names=True)"
      ],
      "metadata": {
        "id": "aasbyd5xmP70"
      },
      "execution_count": null,
      "outputs": []
    },
    {
      "cell_type": "markdown",
      "source": [
        "\n",
        "\n",
        "*   ***DropBatch512***\n",
        "\n"
      ],
      "metadata": {
        "id": "z_2VoG0w6d8Q"
      }
    },
    {
      "cell_type": "code",
      "source": [
        "dropbatch512 = tf.keras.Sequential([\n",
        "    tf.keras.layers.Conv2D(32, (3, 3), padding = \"same\", use_bias=False, input_shape = (100, 100, 1), activation='relu'),\n",
        "    tf.keras.layers.BatchNormalization(),\n",
        "    tf.keras.layers.Conv2D(32, (3, 3), padding = \"same\", use_bias=False, input_shape = (100, 100, 1), activation='relu'),\n",
        "    tf.keras.layers.BatchNormalization(),\n",
        "    tf.keras.layers.Conv2D(32, (3, 3), padding = \"same\", use_bias=False, activation='relu'),\n",
        "    tf.keras.layers.BatchNormalization(),\n",
        "    tf.keras.layers.MaxPooling2D(pool_size = (2, 2)),\n",
        "    tf.keras.layers.Dropout(0.15),\n",
        "    tf.keras.layers.Conv2D(64, (3, 3), padding = \"same\", use_bias=False, activation='relu'),\n",
        "    tf.keras.layers.BatchNormalization(),\n",
        "    tf.keras.layers.Conv2D(64, (3, 3), padding = \"same\", use_bias=False, activation='relu'),\n",
        "    tf.keras.layers.BatchNormalization(),\n",
        "    tf.keras.layers.Conv2D(64, (3, 3), padding = \"same\", use_bias=False, activation='relu'),\n",
        "    tf.keras.layers.BatchNormalization(),\n",
        "    tf.keras.layers.MaxPooling2D(pool_size = (2, 2)),\n",
        "    tf.keras.layers.Dropout(0.15),\n",
        "    tf.keras.layers.Conv2D(128, (3, 3), padding = \"same\", use_bias=False, activation='relu'),\n",
        "    tf.keras.layers.BatchNormalization(),\n",
        "    tf.keras.layers.Conv2D(128, (3, 3), padding = \"same\", use_bias=False, activation='relu'),\n",
        "    tf.keras.layers.BatchNormalization(),\n",
        "    tf.keras.layers.Conv2D(128, (3, 3), padding = \"same\", use_bias=False, activation='relu'),\n",
        "    tf.keras.layers.BatchNormalization(),\n",
        "    tf.keras.layers.MaxPooling2D(pool_size = (2, 2)),\n",
        "    tf.keras.layers.Dropout(0.25),\n",
        "    tf.keras.layers.Conv2D(256, (3, 3), padding = \"same\", use_bias=False, activation='relu'),\n",
        "    tf.keras.layers.BatchNormalization(),\n",
        "    tf.keras.layers.Conv2D(256, (3, 3), padding = \"same\", use_bias=False, activation='relu'),\n",
        "    tf.keras.layers.BatchNormalization(),\n",
        "    tf.keras.layers.Conv2D(256, (3, 3), padding = \"same\", use_bias=False, activation='relu'),\n",
        "    tf.keras.layers.BatchNormalization(),\n",
        "    tf.keras.layers.MaxPooling2D(pool_size = (2, 2)),\n",
        "    tf.keras.layers.Dropout(0.25),\n",
        "    tf.keras.layers.Conv2D(512, (3, 3), padding = \"same\", use_bias=False, activation='relu'),\n",
        "    tf.keras.layers.BatchNormalization(),\n",
        "    tf.keras.layers.Conv2D(512, (3, 3), padding = \"same\", use_bias=False, activation='relu'),\n",
        "    tf.keras.layers.BatchNormalization(),\n",
        "    tf.keras.layers.Conv2D(512, (3, 3), padding = \"same\", use_bias=False, activation='relu'),\n",
        "    tf.keras.layers.BatchNormalization(),\n",
        "    tf.keras.layers.MaxPooling2D(pool_size = (2, 2)),\n",
        "    tf.keras.layers.Dropout(0.3),\n",
        "    tf.keras.layers.Flatten(),\n",
        "    tf.keras.layers.Dense(512, use_bias=False, activation='relu'),\n",
        "    tf.keras.layers.BatchNormalization(),\n",
        "    tf.keras.layers.Dropout(0.3),\n",
        "    tf.keras.layers.Dense(1, activation = 'sigmoid')\n",
        "])\n"
      ],
      "metadata": {
        "id": "i6fj2jDh6rja"
      },
      "execution_count": null,
      "outputs": []
    },
    {
      "cell_type": "code",
      "source": [
        "dropbatch512.summary()"
      ],
      "metadata": {
        "id": "ISAzdA94ps8_"
      },
      "execution_count": null,
      "outputs": []
    },
    {
      "cell_type": "code",
      "source": [
        "visualkeras.layered_view(dropbatch512, legend=True, font = font, color_map=color_map, to_file='dropbatch5123D.png')"
      ],
      "metadata": {
        "id": "AdVtUYZhlzG8"
      },
      "execution_count": null,
      "outputs": []
    },
    {
      "cell_type": "code",
      "source": [
        "keras.utils.plot_model(dropbatch512, to_file='dropbatch512.png', show_shapes=True, show_layer_names=True)"
      ],
      "metadata": {
        "id": "y0_MEWKEmSoM"
      },
      "execution_count": null,
      "outputs": []
    },
    {
      "cell_type": "markdown",
      "source": [
        "\n",
        "\n",
        "*   ***DropBatch1024***\n",
        "\n",
        "\n"
      ],
      "metadata": {
        "id": "9ozk0c0P6tqx"
      }
    },
    {
      "cell_type": "code",
      "source": [
        "dropbatch1024 = tf.keras.Sequential([\n",
        "    tf.keras.layers.Conv2D(32, (3, 3), padding = \"same\", use_bias=False, input_shape = (100, 100, 1), activation='relu'),\n",
        "    tf.keras.layers.BatchNormalization(),\n",
        "    tf.keras.layers.Conv2D(32, (3, 3), padding = \"same\", use_bias=False, input_shape = (100, 100, 1), activation='relu'),\n",
        "    tf.keras.layers.BatchNormalization(),\n",
        "    tf.keras.layers.Conv2D(32, (3, 3), padding = \"same\", use_bias=False, activation='relu'),\n",
        "    tf.keras.layers.BatchNormalization(),\n",
        "    tf.keras.layers.MaxPooling2D(pool_size = (2, 2)),\n",
        "    tf.keras.layers.Dropout(0.2),\n",
        "    tf.keras.layers.Conv2D(64, (3, 3), padding = \"same\", use_bias=False, activation='relu'),\n",
        "    tf.keras.layers.BatchNormalization(),\n",
        "    tf.keras.layers.Conv2D(64, (3, 3), padding = \"same\", use_bias=False, activation='relu'),\n",
        "    tf.keras.layers.BatchNormalization(),\n",
        "    tf.keras.layers.Conv2D(64, (3, 3), padding = \"same\", use_bias=False, activation='relu'),\n",
        "    tf.keras.layers.BatchNormalization(),\n",
        "    tf.keras.layers.MaxPooling2D(pool_size = (2, 2)),\n",
        "    tf.keras.layers.Dropout(0.2),\n",
        "    tf.keras.layers.Conv2D(128, (3, 3), padding = \"same\", use_bias=False, activation='relu'),\n",
        "    tf.keras.layers.BatchNormalization(),\n",
        "    tf.keras.layers.Conv2D(128, (3, 3), padding = \"same\", use_bias=False, activation='relu'),\n",
        "    tf.keras.layers.BatchNormalization(),\n",
        "    tf.keras.layers.Conv2D(128, (3, 3), padding = \"same\", use_bias=False, activation='relu'),\n",
        "    tf.keras.layers.BatchNormalization(),\n",
        "    tf.keras.layers.MaxPooling2D(pool_size = (2, 2)),\n",
        "    tf.keras.layers.Dropout(0.25),\n",
        "    tf.keras.layers.Conv2D(256, (3, 3), padding = \"same\", use_bias=False, activation='relu'),\n",
        "    tf.keras.layers.BatchNormalization(),\n",
        "    tf.keras.layers.Conv2D(256, (3, 3), padding = \"same\", use_bias=False, activation='relu'),\n",
        "    tf.keras.layers.BatchNormalization(),\n",
        "    tf.keras.layers.Conv2D(256, (3, 3), padding = \"same\", use_bias=False, activation='relu'),\n",
        "    tf.keras.layers.BatchNormalization(),\n",
        "    tf.keras.layers.MaxPooling2D(pool_size = (2, 2)),\n",
        "    tf.keras.layers.Dropout(0.25),\n",
        "    tf.keras.layers.Conv2D(512, (3, 3), padding = \"same\", use_bias=False, activation='relu'),\n",
        "    tf.keras.layers.BatchNormalization(),\n",
        "    tf.keras.layers.Conv2D(512, (3, 3), padding = \"same\", use_bias=False, activation='relu'),\n",
        "    tf.keras.layers.BatchNormalization(),\n",
        "    tf.keras.layers.Conv2D(512, (3, 3), padding = \"same\", use_bias=False, activation='relu'),\n",
        "    tf.keras.layers.BatchNormalization(),\n",
        "    tf.keras.layers.MaxPooling2D(pool_size = (2, 2)),\n",
        "    tf.keras.layers.Dropout(0.25),\n",
        "    tf.keras.layers.Conv2D(1024, (3, 3), padding = \"same\", use_bias=False, activation='relu'),\n",
        "    tf.keras.layers.BatchNormalization(),\n",
        "    tf.keras.layers.Conv2D(1024, (3, 3), padding = \"same\", use_bias=False, activation='relu'),\n",
        "    tf.keras.layers.BatchNormalization(),\n",
        "    tf.keras.layers.Conv2D(1024, (3, 3), padding = \"same\", use_bias=False, activation='relu'),\n",
        "    tf.keras.layers.BatchNormalization(),\n",
        "    tf.keras.layers.MaxPooling2D(pool_size = (2, 2)),\n",
        "    tf.keras.layers.Dropout(0.3),\n",
        "    tf.keras.layers.Flatten(),\n",
        "    tf.keras.layers.Dense(512, use_bias=False, activation='relu'),\n",
        "    tf.keras.layers.BatchNormalization(),\n",
        "    tf.keras.layers.Dropout(0.3),\n",
        "    tf.keras.layers.Dense(1, activation = 'sigmoid')\n",
        "])\n"
      ],
      "metadata": {
        "id": "HXgZDEol7L5i"
      },
      "execution_count": null,
      "outputs": []
    },
    {
      "cell_type": "code",
      "source": [
        "dropbatch1024.summary()"
      ],
      "metadata": {
        "id": "rB58k-Dtk-fM"
      },
      "execution_count": null,
      "outputs": []
    },
    {
      "cell_type": "code",
      "source": [
        "visualkeras.layered_view(dropbatch1024, legend=True, font = font, color_map=color_map, to_file='dropbatch10243D.png')"
      ],
      "metadata": {
        "id": "BvC4ylHwl0cz"
      },
      "execution_count": null,
      "outputs": []
    },
    {
      "cell_type": "code",
      "source": [
        "keras.utils.plot_model(dropbatch1024, to_file='dropbatch1024.png', show_shapes=True, show_layer_names=True)"
      ],
      "metadata": {
        "id": "BaGhem8imURL"
      },
      "execution_count": null,
      "outputs": []
    },
    {
      "cell_type": "markdown",
      "source": [
        "\n",
        "\n",
        "*   ***DropBatchMod1024***\n",
        "\n",
        "\n"
      ],
      "metadata": {
        "id": "kIKa4FKhyJFP"
      }
    },
    {
      "cell_type": "code",
      "source": [
        "dropbatchmod1024 = tf.keras.Sequential([\n",
        "    tf.keras.layers.Conv2D(32, (3, 3), padding = \"same\", use_bias=False, input_shape = (100, 100, 1), activation='relu'),\n",
        "    tf.keras.layers.BatchNormalization(),\n",
        "    tf.keras.layers.Conv2D(32, (3, 3), padding = \"same\", use_bias=False, input_shape = (100, 100, 1), activation='relu'),\n",
        "    tf.keras.layers.BatchNormalization(),\n",
        "    tf.keras.layers.Conv2D(32, (3, 3), padding = \"same\", use_bias=False, activation='relu'),\n",
        "    tf.keras.layers.BatchNormalization(),\n",
        "    tf.keras.layers.MaxPooling2D(pool_size = (2, 2)),\n",
        "    tf.keras.layers.Dropout(0.2),\n",
        "    tf.keras.layers.Conv2D(64, (3, 3), padding = \"same\", use_bias=False, activation='relu'),\n",
        "    tf.keras.layers.BatchNormalization(),\n",
        "    tf.keras.layers.Conv2D(64, (3, 3), padding = \"same\", use_bias=False, activation='relu'),\n",
        "    tf.keras.layers.BatchNormalization(),\n",
        "    tf.keras.layers.Conv2D(64, (3, 3), padding = \"same\", use_bias=False, activation='relu'),\n",
        "    tf.keras.layers.BatchNormalization(),\n",
        "    tf.keras.layers.MaxPooling2D(pool_size = (2, 2)),\n",
        "    tf.keras.layers.Dropout(0.2),\n",
        "    tf.keras.layers.Conv2D(128, (3, 3), padding = \"same\", use_bias=False, activation='relu'),\n",
        "    tf.keras.layers.BatchNormalization(),\n",
        "    tf.keras.layers.Conv2D(128, (3, 3), padding = \"same\", use_bias=False, activation='relu'),\n",
        "    tf.keras.layers.BatchNormalization(),\n",
        "    tf.keras.layers.Conv2D(128, (3, 3), padding = \"same\", use_bias=False, activation='relu'),\n",
        "    tf.keras.layers.BatchNormalization(),\n",
        "    tf.keras.layers.MaxPooling2D(pool_size = (2, 2)),\n",
        "    tf.keras.layers.Dropout(0.25),\n",
        "    tf.keras.layers.Conv2D(256, (3, 3), padding = \"same\", use_bias=False, activation='relu'),\n",
        "    tf.keras.layers.BatchNormalization(),\n",
        "    tf.keras.layers.Conv2D(256, (3, 3), padding = \"same\", use_bias=False, activation='relu'),\n",
        "    tf.keras.layers.BatchNormalization(),\n",
        "    tf.keras.layers.Conv2D(256, (3, 3), padding = \"same\", use_bias=False, activation='relu'),\n",
        "    tf.keras.layers.BatchNormalization(),\n",
        "    tf.keras.layers.MaxPooling2D(pool_size = (2, 2)),\n",
        "    tf.keras.layers.Conv2D(512, (3, 3), padding = \"same\", use_bias=False, activation='relu'),\n",
        "    tf.keras.layers.BatchNormalization(),\n",
        "    tf.keras.layers.Conv2D(512, (3, 3), padding = \"same\", use_bias=False, activation='relu'),\n",
        "    tf.keras.layers.BatchNormalization(),\n",
        "    tf.keras.layers.Conv2D(512, (3, 3), padding = \"same\", use_bias=False, activation='relu'),\n",
        "    tf.keras.layers.BatchNormalization(),\n",
        "    tf.keras.layers.MaxPooling2D(pool_size = (2, 2)),\n",
        "    tf.keras.layers.Conv2D(1024, (3, 3), padding = \"same\", use_bias=False, activation='relu'),\n",
        "    tf.keras.layers.BatchNormalization(),\n",
        "    tf.keras.layers.Conv2D(1024, (3, 3), padding = \"same\", use_bias=False, activation='relu'),\n",
        "    tf.keras.layers.BatchNormalization(),\n",
        "    tf.keras.layers.Conv2D(1024, (3, 3), padding = \"same\", use_bias=False, activation='relu'),\n",
        "    tf.keras.layers.BatchNormalization(),\n",
        "    tf.keras.layers.MaxPooling2D(pool_size = (2, 2)),\n",
        "    tf.keras.layers.Flatten(),\n",
        "    tf.keras.layers.Dense(512, use_bias=False, activation='relu'),\n",
        "    tf.keras.layers.Dense(1, activation = 'sigmoid')\n",
        "])\n",
        "\n"
      ],
      "metadata": {
        "id": "zQ689pxHyJFR"
      },
      "execution_count": null,
      "outputs": []
    },
    {
      "cell_type": "code",
      "source": [
        "dropbatchmod1024.summary()"
      ],
      "metadata": {
        "id": "9fLoNo4XlR5b"
      },
      "execution_count": null,
      "outputs": []
    },
    {
      "cell_type": "code",
      "source": [
        "visualkeras.layered_view(dropbatchmod1024, legend=True, font = font, color_map=color_map, to_file='dropbatchmod10243D.png')"
      ],
      "metadata": {
        "id": "hYlOuqLZl14b"
      },
      "execution_count": null,
      "outputs": []
    },
    {
      "cell_type": "code",
      "source": [
        "keras.utils.plot_model(dropbatchmod1024, to_file='dropbatchmod1024.png', show_shapes=True, show_layer_names=True)"
      ],
      "metadata": {
        "id": "aiClY-eWmVxl"
      },
      "execution_count": null,
      "outputs": []
    }
  ],
  "metadata": {
    "colab": {
      "provenance": [],
      "collapsed_sections": [
        "bhlWtWESbjAU"
      ],
      "gpuType": "A100",
      "authorship_tag": "ABX9TyO6HMNTGSTI3OpZF9neMt14",
      "include_colab_link": true
    },
    "gpuClass": "standard",
    "kernelspec": {
      "display_name": "Python 3",
      "name": "python3"
    },
    "language_info": {
      "name": "python"
    }
  },
  "nbformat": 4,
  "nbformat_minor": 0
}